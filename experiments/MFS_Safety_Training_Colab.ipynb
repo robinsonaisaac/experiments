{
  "cells": [
    {
      "cell_type": "raw",
      "metadata": {
        "vscode": {
          "languageId": "raw"
        }
      },
      "source": [
        "# MFS Safety Training on Google Colab A100\n",
        "\n",
        "This notebook implements the \"Computational Barriers to Safety Removal in Large Language Models Through Massive Feature Superposition\" research.\n",
        "\n",
        "**Make sure to enable A100 GPU in Runtime > Change runtime type > Hardware accelerator: GPU > GPU type: A100**\n"
      ]
    }
  ],
  "metadata": {
    "language_info": {
      "name": "python"
    }
  },
  "nbformat": 4,
  "nbformat_minor": 2
}
